{
  "nbformat": 4,
  "nbformat_minor": 0,
  "metadata": {
    "colab": {
      "name": "Scratch Pad.ipynb",
      "version": "0.3.2",
      "provenance": [],
      "collapsed_sections": [
        "uEKY851HskqB",
        "Mq7RIPHDTGO3",
        "17PkNW0STERs",
        "mjn0cIvWSinS",
        "E_MFe4g3N3Oo",
        "e69ZbLcmNFmr",
        "FCbyZeWZZArb",
        "rQK2hmEEYtID",
        "aNn-y07rZXfX",
        "HZM0Y180eXYM"
      ],
      "include_colab_link": true
    },
    "kernelspec": {
      "display_name": "Python 3",
      "language": "python",
      "name": "python3"
    }
  },
  "cells": [
    {
      "cell_type": "markdown",
      "metadata": {
        "id": "view-in-github",
        "colab_type": "text"
      },
      "source": [
        "<a href=\"https://colab.research.google.com/github/ed-chin-git/DS-Project-1---Data-Storytelling/blob/master/Scratch_Pad.ipynb\" target=\"_parent\"><img src=\"https://colab.research.google.com/assets/colab-badge.svg\" alt=\"Open In Colab\"/></a>"
      ]
    },
    {
      "metadata": {
        "id": "lOH73mi0Wc3q",
        "colab_type": "text"
      },
      "cell_type": "markdown",
      "source": [
        "# Jupyter Scratch Pad"
      ]
    },
    {
      "metadata": {
        "id": "uEKY851HskqB",
        "colab_type": "text"
      },
      "cell_type": "markdown",
      "source": [
        "### first code challenge"
      ]
    },
    {
      "metadata": {
        "id": "rV6kdjQrGOhe",
        "colab_type": "code",
        "colab": {}
      },
      "cell_type": "code",
      "source": [
        "# CODE CHALLENGE\n",
        "\n",
        "# problem 1\n",
        "def match_ends(words):\n",
        "  count=0\n",
        "  for word in words:\n",
        "    if len(word) > 1:\n",
        "      first_char=word[0]\n",
        "      #last_char=word[(len(word)-1)]\n",
        "      last_char=word[-1]\n",
        "      if first_char==last_char:\n",
        "        count=count+1\n",
        "  return count\n",
        "  \n",
        "# problem 2 \n",
        "def front_x(words):\n",
        "  x_list=[]\n",
        "  nonx_list=[]\n",
        "  for word in words:\n",
        "    #if word[0]=='x':\n",
        "    if word.startswith('x'):\n",
        "        x_list.append(word)\n",
        "    else:\n",
        "        nonx_list.append(word)\n",
        "  x_list.sort()\n",
        "  nonx_list.sort()\n",
        "  x_list.extend(nonx_list)\n",
        "  return x_list\n",
        "  \n",
        "# problem 3\n",
        "def sortSecond(val): \n",
        "    return val[1]  \n",
        "\n",
        "def sort_last(tuples):\n",
        "  #tuples.sort(key=sortSecond)\n",
        "  tuples.sort(key=lambda a: a[-1])\n",
        "  return tuples\n",
        "\n",
        "\n",
        "def Main():\n",
        "  wordlist = ['otto', 'apple', 'pear', 'banana', 'ana', 'apple', 'banana', 'xed', 'xs']\n",
        "  print(wordlist)\n",
        "  print('\\nmatched ends (len>1)=',match_ends(wordlist))\n",
        "  print(front_x(wordlist))\n",
        "\n",
        "  tupl_list= [(1, 7), (1, 3), (3, 4, 5), (2, 2)]\n",
        "  print(sort_last(tupl_list))\n",
        "  return()\n",
        "  \n",
        "\n"
      ],
      "execution_count": 0,
      "outputs": []
    },
    {
      "metadata": {
        "id": "yXxeuzwLjEQK",
        "colab_type": "text"
      },
      "cell_type": "markdown",
      "source": [
        "###  display alll rows of a dataFrame"
      ]
    },
    {
      "metadata": {
        "id": "P0XVmNrtjMsr",
        "colab_type": "code",
        "colab": {}
      },
      "cell_type": "code",
      "source": [
        "pd.set_option(\"display.max_rows\", len(df))"
      ],
      "execution_count": 0,
      "outputs": []
    },
    {
      "metadata": {
        "id": "Mq7RIPHDTGO3",
        "colab_type": "text"
      },
      "cell_type": "markdown",
      "source": [
        "### mount GoogleDrive to coLab vm"
      ]
    },
    {
      "metadata": {
        "id": "bFUpubXe3f-j",
        "colab_type": "code",
        "colab": {}
      },
      "cell_type": "code",
      "source": [
        "# Load the Drive helper and mount\n",
        "from google.colab import drive\n",
        "\n",
        "# This will prompt for authorization.\n",
        "drive.mount('/content/drive')\n",
        "\n",
        "#data_url = '/content/drive/RejectStatsA.csv'"
      ],
      "execution_count": 0,
      "outputs": []
    },
    {
      "metadata": {
        "id": "DPhIUu8bNlvH",
        "colab_type": "code",
        "colab": {}
      },
      "cell_type": "code",
      "source": [
        "# After executing the cell above, Drive\n",
        "# files will be present in \"/content/drive/My Drive\".\n",
        "!ls \"/content/drive/My Drive\""
      ],
      "execution_count": 0,
      "outputs": []
    },
    {
      "metadata": {
        "id": "17PkNW0STERs",
        "colab_type": "text"
      },
      "cell_type": "markdown",
      "source": [
        "### Beautiful Soup "
      ]
    },
    {
      "metadata": {
        "id": "mQzIvirE_MwT",
        "colab_type": "code",
        "outputId": "378ca0d2-6afd-40ed-b77c-3a6e404d1cfc",
        "colab": {
          "base_uri": "https://localhost:8080/",
          "height": 34
        }
      },
      "cell_type": "code",
      "source": [
        "#!pip install BeautifulSoup4\n",
        "from bs4 import BeautifulSoup\n",
        "import urllib\n",
        "quote_page = 'http://www.bloomberg.com/quote/SPX:IND'\n",
        "\n",
        "# query the website and return the html to the variable ‘page_content’\n",
        "from urllib.request import urlopen\n",
        "page_content = urlopen(quote_page)\n",
        "\n",
        "soup = BeautifulSoup(page_content, 'html.parser')\n",
        "\n",
        "# Take out the <div> of name and get its value\n",
        "print(soup.find('h1', attrs={'class': 'name'}))\n",
        "\n",
        "#name = name_box.text    # .strip() # strip() is used to remove starting and trailing\n",
        "\n",
        "#print(page_content)"
      ],
      "execution_count": 0,
      "outputs": [
        {
          "output_type": "stream",
          "text": [
            "None\n"
          ],
          "name": "stdout"
        }
      ]
    },
    {
      "metadata": {
        "id": "mjn0cIvWSinS",
        "colab_type": "text"
      },
      "cell_type": "markdown",
      "source": [
        "### Fibonacci sequence"
      ]
    },
    {
      "metadata": {
        "id": "6UZqSYgU2Z2Y",
        "colab_type": "code",
        "outputId": "e517805e-7cae-420a-fd80-186ad6fc1a39",
        "colab": {
          "base_uri": "https://localhost:8080/",
          "height": 68
        }
      },
      "cell_type": "code",
      "source": [
        "def nth_fib_function(n):\n",
        "  # without using recursion\n",
        "  fib_seq=[0,1] # each element = sum of 2 prev elements (except for 1st 2 elems)\n",
        "  if n<3:\n",
        "    element=fib_seq[(n-1)]\n",
        "  else:\n",
        "    # create fib sequence with n elements\n",
        "    for i in range(2,n):\n",
        "      fib_no=( fib_seq[i-1]+fib_seq[i-2] )\n",
        "      fib_seq.append(fib_no)\n",
        "    element=fib_seq[n-1]\n",
        "  #print (fib_seq)\n",
        "  return element\n",
        "  \n",
        "def recur_fibo(n):\n",
        "  # with recursion\n",
        "  if n == 1:\n",
        "    return 0\n",
        "  if n == 2: \n",
        "    return 1\n",
        "  else:\n",
        "    return nth_fib_function(n-1) + nth_fib_function(n-2)\n",
        "    \n",
        "def Main():\n",
        "  inSTR=input(\"Fibonacci Element#: \")\n",
        "  if inSTR=='':\n",
        "    return False\n",
        "  N_th = int(inSTR)\n",
        "  if N_th>0:\n",
        "    print('The',N_th,'th number in the Fibonacci sequence =',nth_fib_function(N_th))\n",
        "    print('                           using recursion =',recur_fibo(N_th))\n",
        "    return True\n",
        "  else:  \n",
        "    return False\n",
        "\n",
        "doIt=True\n",
        "while doIt:\n",
        "  doIt=Main()\n",
        "print ('\\nbye.....')"
      ],
      "execution_count": 0,
      "outputs": [
        {
          "output_type": "stream",
          "text": [
            "Fibonacci Element#: \n",
            "\n",
            "bye.....\n"
          ],
          "name": "stdout"
        }
      ]
    },
    {
      "metadata": {
        "id": "E_MFe4g3N3Oo",
        "colab_type": "text"
      },
      "cell_type": "markdown",
      "source": [
        "###  seaborn  playground"
      ]
    },
    {
      "metadata": {
        "id": "-b7sAt94xLWj",
        "colab_type": "code",
        "outputId": "7adc65b5-ab71-470a-f6a3-ead2d9bf5698",
        "colab": {
          "base_uri": "https://localhost:8080/",
          "height": 306
        }
      },
      "cell_type": "code",
      "source": [
        "# install latest version of seaborn\n",
        "!pip install seaborn --upgrade\n",
        "import os\n",
        "os.kill(os.getpid(), 9)"
      ],
      "execution_count": 0,
      "outputs": [
        {
          "output_type": "stream",
          "text": [
            "Collecting seaborn\n",
            "\u001b[?25l  Downloading https://files.pythonhosted.org/packages/a8/76/220ba4420459d9c4c9c9587c6ce607bf56c25b3d3d2de62056efe482dadc/seaborn-0.9.0-py3-none-any.whl (208kB)\n",
            "\r\u001b[K    4% |█▋                              | 10kB 18.9MB/s eta 0:00:01\r\u001b[K    9% |███▏                            | 20kB 3.0MB/s eta 0:00:01\r\u001b[K    14% |████▊                           | 30kB 3.4MB/s eta 0:00:01\r\u001b[K    19% |██████▎                         | 40kB 3.1MB/s eta 0:00:01\r\u001b[K    24% |███████▉                        | 51kB 3.4MB/s eta 0:00:01\r\u001b[K    29% |█████████▌                      | 61kB 4.1MB/s eta 0:00:01\r\u001b[K    34% |███████████                     | 71kB 4.2MB/s eta 0:00:01\r\u001b[K    39% |████████████▋                   | 81kB 4.1MB/s eta 0:00:01\r\u001b[K    44% |██████████████▏                 | 92kB 4.6MB/s eta 0:00:01\r\u001b[K    49% |███████████████▊                | 102kB 4.7MB/s eta 0:00:01\r\u001b[K    54% |█████████████████▎              | 112kB 4.7MB/s eta 0:00:01\r\u001b[K    59% |███████████████████             | 122kB 5.9MB/s eta 0:00:01\r\u001b[K    63% |████████████████████▌           | 133kB 5.7MB/s eta 0:00:01\r\u001b[K    68% |██████████████████████          | 143kB 7.3MB/s eta 0:00:01\r\u001b[K    73% |███████████████████████▋        | 153kB 7.4MB/s eta 0:00:01\r\u001b[K    78% |█████████████████████████▏      | 163kB 6.7MB/s eta 0:00:01\r\u001b[K    83% |██████████████████████████▊     | 174kB 7.5MB/s eta 0:00:01\r\u001b[K    88% |████████████████████████████▍   | 184kB 8.4MB/s eta 0:00:01\r\u001b[K    93% |██████████████████████████████  | 194kB 8.4MB/s eta 0:00:01\r\u001b[K    98% |███████████████████████████████▌| 204kB 8.5MB/s eta 0:00:01\r\u001b[K    100% |████████████████████████████████| 215kB 7.5MB/s \n",
            "\u001b[?25hRequirement already satisfied, skipping upgrade: matplotlib>=1.4.3 in /usr/local/lib/python3.6/dist-packages (from seaborn) (2.1.2)\n",
            "Requirement already satisfied, skipping upgrade: numpy>=1.9.3 in /usr/local/lib/python3.6/dist-packages (from seaborn) (1.14.6)\n",
            "Requirement already satisfied, skipping upgrade: scipy>=0.14.0 in /usr/local/lib/python3.6/dist-packages (from seaborn) (1.1.0)\n",
            "Requirement already satisfied, skipping upgrade: pandas>=0.15.2 in /usr/local/lib/python3.6/dist-packages (from seaborn) (0.22.0)\n",
            "Requirement already satisfied, skipping upgrade: six>=1.10 in /usr/local/lib/python3.6/dist-packages (from matplotlib>=1.4.3->seaborn) (1.11.0)\n",
            "Requirement already satisfied, skipping upgrade: pytz in /usr/local/lib/python3.6/dist-packages (from matplotlib>=1.4.3->seaborn) (2018.7)\n",
            "Requirement already satisfied, skipping upgrade: python-dateutil>=2.1 in /usr/local/lib/python3.6/dist-packages (from matplotlib>=1.4.3->seaborn) (2.5.3)\n",
            "Requirement already satisfied, skipping upgrade: cycler>=0.10 in /usr/local/lib/python3.6/dist-packages (from matplotlib>=1.4.3->seaborn) (0.10.0)\n",
            "Requirement already satisfied, skipping upgrade: pyparsing!=2.0.4,!=2.1.2,!=2.1.6,>=2.0.1 in /usr/local/lib/python3.6/dist-packages (from matplotlib>=1.4.3->seaborn) (2.3.0)\n",
            "Installing collected packages: seaborn\n",
            "  Found existing installation: seaborn 0.7.1\n",
            "    Uninstalling seaborn-0.7.1:\n",
            "      Successfully uninstalled seaborn-0.7.1\n",
            "Successfully installed seaborn-0.9.0\n"
          ],
          "name": "stdout"
        }
      ]
    },
    {
      "metadata": {
        "id": "ygoYYpbUwXwd",
        "colab_type": "code",
        "outputId": "a4a9cf4e-a77b-4770-8db7-6c9e607a7cf6",
        "colab": {
          "base_uri": "https://localhost:8080/",
          "height": 365
        }
      },
      "cell_type": "code",
      "source": [
        "import numpy as np\n",
        "import pandas as pd\n",
        "import matplotlib.pyplot as plt\n",
        "import seaborn as sns\n",
        "sns.set(style=\"darkgrid\")\n",
        "tips = sns.load_dataset(\"tips\")\n",
        "sns.relplot(x=\"total_bill\", y=\"tip\", data=tips);"
      ],
      "execution_count": 0,
      "outputs": [
        {
          "output_type": "display_data",
          "data": {
            "image/png": "[encoded data removed]",
            "text/plain": [
              "<matplotlib.figure.Figure at 0x7f3f34d0ecc0>"
            ]
          },
          "metadata": {
            "tags": []
          }
        }
      ]
    },
    {
      "metadata": {
        "id": "trLVFI99xobv",
        "colab_type": "code",
        "outputId": "bcfe7efb-a2a1-421a-80d6-8a6387e99088",
        "colab": {
          "base_uri": "https://localhost:8080/",
          "height": 365
        }
      },
      "cell_type": "code",
      "source": [
        "\n",
        "# threee....\n",
        "sns.relplot(x=\"total_bill\", y=\"tip\", hue=\"smoker\", data=tips);"
      ],
      "execution_count": 0,
      "outputs": [
        {
          "output_type": "display_data",
          "data": {
            "image/png": "[encoded data removed]",
            "text/plain": [
              "<matplotlib.figure.Figure at 0x7f3f351604a8>"
            ]
          },
          "metadata": {
            "tags": []
          }
        }
      ]
    },
    {
      "metadata": {
        "id": "e69ZbLcmNFmr",
        "colab_type": "text"
      },
      "cell_type": "markdown",
      "source": [
        "## ASCII Histogram  code challenge"
      ]
    },
    {
      "metadata": {
        "id": "80UDShBbNEMk",
        "colab_type": "code",
        "colab": {}
      },
      "cell_type": "code",
      "source": [
        "# Here are some numbers\n",
        "import operator\n",
        "\n",
        "some_numbers = (-1, -15,   2,   1,   3,  16,  -3,  13,   3,   7,   5,  16, -11,\n",
        "         2,   1,  15,   5,  -1,  -8,   4, -13,   7,  14,   9,   4, -17,\n",
        "        21,  -5,   0,   5, -11, -21,  -6,   2,  -2,  -3,   6,   6,   0,\n",
        "        19,  -6,   5,   8,   2,  -9,  -9,   0,   0,   6,   2,   6,  22,\n",
        "        -5,  -4,  -4, -15, -26,   5,  -1,   4,   1,  -5,  20, -11, -22,\n",
        "        12,  -5,  12,  16,  10,  -9,   6,   0,   9,   5,   3, -14,  -4,\n",
        "         1,   4,  -4,  15,  16,  -3,  10,  -3,  22, -12,   9,  -8,  -3,\n",
        "        -9,  -2, -26,   7,  18,  -9,  -1,   7,  -2, -23,  12,  10,   1,\n",
        "        -4,  -2,   0,   0,   3,   2,   1,   4,   9,   9,  10,   0,  -8,\n",
        "        33, -21,  -7,   9,   6,  10,  11, -12, -12,  -9,  -2,  11, -15,\n",
        "        19,  14,  -6,  -3,   6,   1,   6,   6,  11,   3,   6,  19,  -9,\n",
        "       -11,  -2,   3, -14,   9,   8, -13, -18,   4,  13, -17,  11, -15,\n",
        "        22,  -8,  14,  11,  -4,  -4,  -6, -22,   2,  -1, -18,  -1,  -5,\n",
        "        -9,   4,   6,  14,   5,   2,   7,  13,  18,  -6,  -6,   0,  -4,\n",
        "         2,  -7, -12,  -4,  -3, -13,   5,  22, -13, -10,   2,   3,   2,\n",
        "        25,   8,   7,   5, -19,  -9, -20,  11,  -3,  -6,  -8,  -8,  -6,\n",
        "         9,   7,  12, -10,   5,  -1,  13, -11, -11,   6, -12,   2,   8,\n",
        "         5,  17,  -5,  -7, -12, -14,  -4, -24,  -8,   4,   3,  -1,  10,\n",
        "       -12,  26,  16, -22, -13,  12,   3,  -6, -10, -12,  -2,   4,  -7,\n",
        "        -3, -13,   8,   6, -13,  -5,  10,   2, -16,  -7,   4, -26,   3,\n",
        "        -5,  -1,   8,  -9,  12,   1,   9,  -9, -25,   2,  -2,  14,  21,\n",
        "        -1, -12, -13,   9,  24,  24,  -5, -18, -14,  -1,  15, -16, -13,\n",
        "        11,   4,  24,  -1,  11, -16,  -1, -15,  -9,  10,  -6, -18,   6,\n",
        "        18,   1,  -1,  -4, -12,  -5,   4,  -3,  20,   1,   5,   4,  -1,\n",
        "        19,  21,  14,   0,   2, -14,   8,   1,   8,  -3,  11, -12,  -4,\n",
        "        15,   1,   2,   2,  11,  -2, -27,   0)\n",
        "\n",
        "### Tally some_numbers into a dict named data\n",
        "def hand_histogram(seq) -> dict:\n",
        "    hstgrm = {}\n",
        "    for i in seq:\n",
        "        hstgrm[i] = hstgrm.get(i, 0) + 1\n",
        "    return hstgrm\n",
        "  \n",
        "def ascii_histogram(seq) -> None:\n",
        "  for num in seq:\n",
        "    \n",
        "    if (num[0] % 5 == 0) and (num[0] % 3 == 0):\n",
        "      string_val = \"z\" * num[1]\n",
        "    elif (num[0] % 5 == 0):\n",
        "      string_val = \"b\" * num[1]\n",
        "    elif (num[0] % 3 == 0):\n",
        "      string_val = \"f\" * num[1]\n",
        "    else:\n",
        "      string_val = \"+\" * num[1]\n",
        " \n",
        "    print(str(num[0]), string_val)\n",
        "  return\n",
        "\n",
        "# tally some_numbers into a dict\n",
        "unsorted_data=hand_histogram(some_numbers)\n",
        "\n",
        "#create sorted tuple list by the first item\n",
        "data=sorted(unsorted_data.items(), key=operator.itemgetter(0))\n",
        "\n",
        "ascii_histogram(data)    # data can take whatever form you decide\n"
      ],
      "execution_count": 0,
      "outputs": []
    },
    {
      "metadata": {
        "id": "FCbyZeWZZArb",
        "colab_type": "text"
      },
      "cell_type": "markdown",
      "source": [
        "##Let's make this a FizzBuzZ-ogram!\n",
        "\n",
        "(Copy your code to another python development environment. \n",
        "Leave your working code alone and submit!)\n",
        "\n",
        "1. For numbers that are multiples of 3 switch the '+' to an 'f'\n",
        "2. For numbers that are multiples of 5 switch the '+' to a 'b'\n",
        "3. For numbers that are multiples of 3 and 5 switch the '+' to a 'z'"
      ]
    },
    {
      "metadata": {
        "colab_type": "code",
        "id": "S5ayoHOaY-_s",
        "colab": {}
      },
      "cell_type": "code",
      "source": [
        "from collections import OrderedDict\n",
        "\n",
        "def FB_histogram(seq) -> None:\n",
        "    \"\"\"A horizontal frequency-table/histogram plot.\"\"\"\n",
        "    # **** Your code here !!! *****\n",
        "    ascii_dict = hand_histogram(seq)\n",
        "    ascii_dict_ordered = OrderedDict(sorted(ascii_dict.items()))\n",
        "\n",
        "    output = \"\"\n",
        "    for key,value in ascii_dict_ordered.items():\n",
        "      if (key % 5 == 0) and (key % 3 == 0):\n",
        "        output += \"{:3d} {}{}\".format(key, 'z'*value,'\\n')\n",
        "      elif (key % 5 == 0):\n",
        "        output += \"{:3d} {}{}\".format(key, 'b'*value,'\\n')\n",
        "      elif (key % 3 == 0):\n",
        "        output += \"{:3d} {}{}\".format(key, 'f'*value,'\\n')\n",
        "      else:\n",
        "        output += \"{:3d} {}{}\".format(key, '+'*value,'\\n')\n",
        "    print(output)\n",
        "FB_histogram(some_numbers)    # data can take whatever form you decide    "
      ],
      "execution_count": 0,
      "outputs": []
    },
    {
      "metadata": {
        "colab_type": "code",
        "id": "W1wdzhSAY-_Y",
        "colab": {}
      },
      "cell_type": "code",
      "source": [
        ""
      ],
      "execution_count": 0,
      "outputs": []
    },
    {
      "metadata": {
        "id": "rQK2hmEEYtID",
        "colab_type": "text"
      },
      "cell_type": "markdown",
      "source": [
        "## Loading data from a zipped file"
      ]
    },
    {
      "metadata": {
        "id": "VS5c8PQVY4TN",
        "colab_type": "code",
        "outputId": "77f4ba28-562f-4457-c2f7-9bbc5636cb68",
        "colab": {
          "base_uri": "https://localhost:8080/",
          "height": 255
        }
      },
      "cell_type": "code",
      "source": [
        "# Getting started with drug data\n",
        "# http://archive.ics.uci.edu/ml/datasets/Drug+Review+Dataset+%28Drugs.com%29\n",
        "\n",
        "!wget http://archive.ics.uci.edu/ml/machine-learning-databases/00462/drugsCom_raw.zip\n",
        "!unzip drugsCom_raw.zip  "
      ],
      "execution_count": 0,
      "outputs": [
        {
          "output_type": "stream",
          "text": [
            "--2018-12-04 22:45:41--  http://archive.ics.uci.edu/ml/machine-learning-databases/00462/drugsCom_raw.zip\n",
            "Resolving archive.ics.uci.edu (archive.ics.uci.edu)... 128.195.10.249\n",
            "Connecting to archive.ics.uci.edu (archive.ics.uci.edu)|128.195.10.249|:80... connected.\n",
            "HTTP request sent, awaiting response... 200 OK\n",
            "Length: 42989872 (41M) [application/zip]\n",
            "Saving to: ‘drugsCom_raw.zip.2’\n",
            "\n",
            "drugsCom_raw.zip.2  100%[===================>]  41.00M  12.1MB/s    in 5.0s    \n",
            "\n",
            "2018-12-04 22:45:46 (8.22 MB/s) - ‘drugsCom_raw.zip.2’ saved [42989872/42989872]\n",
            "\n",
            "Archive:  drugsCom_raw.zip\n",
            "replace drugsComTest_raw.tsv? [y]es, [n]o, [A]ll, [N]one, [r]ename: n\n",
            "replace drugsComTrain_raw.tsv? [y]es, [n]o, [A]ll, [N]one, [r]ename: n\n"
          ],
          "name": "stdout"
        }
      ]
    },
    {
      "metadata": {
        "id": "aNn-y07rZXfX",
        "colab_type": "text"
      },
      "cell_type": "markdown",
      "source": [
        "## Load a TSV file"
      ]
    },
    {
      "metadata": {
        "id": "-ziL4ADNZcKJ",
        "colab_type": "code",
        "outputId": "28ff6b18-55b4-48f2-ada9-9f7960667eed",
        "colab": {
          "base_uri": "https://localhost:8080/",
          "height": 207
        }
      },
      "cell_type": "code",
      "source": [
        "!head drugsComTrain_raw.tsv"
      ],
      "execution_count": 0,
      "outputs": [
        {
          "output_type": "stream",
          "text": [
            "\tdrugName\tcondition\treview\trating\tdate\tusefulCount\r\n",
            "206461\tValsartan\tLeft Ventricular Dysfunction\t\"\"\"It has no side effect, I take it in combination of Bystolic 5 Mg and Fish Oil\"\"\"\t9.0\tMay 20, 2012\t27\r\n",
            "95260\tGuanfacine\tADHD\t\"\"\"My son is halfway through his fourth week of Intuniv. We became concerned when he began this last week, when he started taking the highest dose he will be on. For two days, he could hardly get out of bed, was very cranky, and slept for nearly 8 hours on a drive home from school vacation (very unusual for him.) I called his doctor on Monday morning and she said to stick it out a few days. See how he did at school, and with getting up in the morning. The last two days have been problem free. He is MUCH more agreeable than ever. He is less emotional (a good thing), less cranky. He is remembering all the things he should. Overall his behavior is better. \r\n",
            "We have tried many different medications and so far this is the most effective.\"\"\"\t8.0\tApril 27, 2010\t192\r\n",
            "92703\tLybrel\tBirth Control\t\"\"\"I used to take another oral contraceptive, which had 21 pill cycle, and was very happy- very light periods, max 5 days, no other side effects. But it contained hormone gestodene, which is not available in US, so I switched to Lybrel, because the ingredients are similar. When my other pills ended, I started Lybrel immediately, on my first day of period, as the instructions said. And the period lasted for two weeks. When taking the second pack- same two weeks. And now, with third pack things got even worse- my third period lasted for two weeks and now it&#039;s the end of the third week- I still have daily brown discharge.\r\n",
            "The positive side is that I didn&#039;t have any other side effects. The idea of being period free was so tempting... Alas.\"\"\"\t5.0\tDecember 14, 2009\t17\r\n",
            "138000\tOrtho Evra\tBirth Control\t\"\"\"This is my first time using any form of birth control. I&#039;m glad I went with the patch, I have been on it for 8 months. At first It decreased my libido but that subsided. The only downside is that it made my periods longer (5-6 days to be exact) I used to only have periods for 3-4 days max also made my cramps intense for the first two days of my period, I never had cramps before using birth control. Other than that in happy with the patch\"\"\"\t8.0\tNovember 3, 2015\t10\r\n",
            "35696\tBuprenorphine / naloxone\tOpiate Dependence\t\"\"\"Suboxone has completely turned my life around.  I feel healthier, I&#039;m excelling at my job and I always have money in my pocket and my savings account.  I had none of those before Suboxone and spent years abusing oxycontin.  My paycheck was already spent by the time I got it and I started resorting to scheming and stealing to fund my addiction.  All that is history.  If you&#039;re ready to stop, there&#039;s a good chance that suboxone will put you on the path of great life again.  I have found the side-effects to be minimal compared to oxycontin.  I&#039;m actually sleeping better.   Slight constipation is about it for me.  It truly is amazing. The cost pales in comparison to what I spent on oxycontin.\"\"\"\t9.0\tNovember 27, 2016\t37\r\n",
            "155963\tCialis\tBenign Prostatic Hyperplasia\t\"\"\"2nd day on 5mg started to work with rock hard erections however experianced headache, lower bowel preassure. 3rd day erections would wake me up &amp; hurt! Leg/ankles aches   severe lower bowel preassure like you need to go #2 but can&#039;t! Enjoyed the initial rockhard erections but not at these side effects or $230 for months supply! I&#039;m 50 &amp; work out 3Xs a week. Not worth side effects!\"\"\"\t2.0\tNovember 28, 2015\t43\r\n",
            "165907\tLevonorgestrel\tEmergency Contraception\t\"\"\"He pulled out, but he cummed a bit in me. I took the Plan B 26 hours later, and took a pregnancy test two weeks later - - I&#039;m pregnant.\"\"\"\t1.0\tMarch 7, 2017\t5\r\n"
          ],
          "name": "stdout"
        }
      ]
    },
    {
      "metadata": {
        "id": "2mwqfQ1WZ6xQ",
        "colab_type": "code",
        "outputId": "8ec0c906-5db7-41e3-e3e0-5fcc7d1f9421",
        "colab": {
          "base_uri": "https://localhost:8080/",
          "height": 204
        }
      },
      "cell_type": "code",
      "source": [
        "import pandas as pd\n",
        "df = pd.read_table('drugsComTrain_raw.tsv')\n",
        "df.head()"
      ],
      "execution_count": 0,
      "outputs": [
        {
          "output_type": "execute_result",
          "data": {
            "text/html": [
              "<div>\n",
              "<style scoped>\n",
              "    .dataframe tbody tr th:only-of-type {\n",
              "        vertical-align: middle;\n",
              "    }\n",
              "\n",
              "    .dataframe tbody tr th {\n",
              "        vertical-align: top;\n",
              "    }\n",
              "\n",
              "    .dataframe thead th {\n",
              "        text-align: right;\n",
              "    }\n",
              "</style>\n",
              "<table border=\"1\" class=\"dataframe\">\n",
              "  <thead>\n",
              "    <tr style=\"text-align: right;\">\n",
              "      <th></th>\n",
              "      <th>Unnamed: 0</th>\n",
              "      <th>drugName</th>\n",
              "      <th>condition</th>\n",
              "      <th>review</th>\n",
              "      <th>rating</th>\n",
              "      <th>date</th>\n",
              "      <th>usefulCount</th>\n",
              "    </tr>\n",
              "  </thead>\n",
              "  <tbody>\n",
              "    <tr>\n",
              "      <th>0</th>\n",
              "      <td>206461</td>\n",
              "      <td>Valsartan</td>\n",
              "      <td>Left Ventricular Dysfunction</td>\n",
              "      <td>\"It has no side effect, I take it in combinati...</td>\n",
              "      <td>9.0</td>\n",
              "      <td>May 20, 2012</td>\n",
              "      <td>27</td>\n",
              "    </tr>\n",
              "    <tr>\n",
              "      <th>1</th>\n",
              "      <td>95260</td>\n",
              "      <td>Guanfacine</td>\n",
              "      <td>ADHD</td>\n",
              "      <td>\"My son is halfway through his fourth week of ...</td>\n",
              "      <td>8.0</td>\n",
              "      <td>April 27, 2010</td>\n",
              "      <td>192</td>\n",
              "    </tr>\n",
              "    <tr>\n",
              "      <th>2</th>\n",
              "      <td>92703</td>\n",
              "      <td>Lybrel</td>\n",
              "      <td>Birth Control</td>\n",
              "      <td>\"I used to take another oral contraceptive, wh...</td>\n",
              "      <td>5.0</td>\n",
              "      <td>December 14, 2009</td>\n",
              "      <td>17</td>\n",
              "    </tr>\n",
              "    <tr>\n",
              "      <th>3</th>\n",
              "      <td>138000</td>\n",
              "      <td>Ortho Evra</td>\n",
              "      <td>Birth Control</td>\n",
              "      <td>\"This is my first time using any form of birth...</td>\n",
              "      <td>8.0</td>\n",
              "      <td>November 3, 2015</td>\n",
              "      <td>10</td>\n",
              "    </tr>\n",
              "    <tr>\n",
              "      <th>4</th>\n",
              "      <td>35696</td>\n",
              "      <td>Buprenorphine / naloxone</td>\n",
              "      <td>Opiate Dependence</td>\n",
              "      <td>\"Suboxone has completely turned my life around...</td>\n",
              "      <td>9.0</td>\n",
              "      <td>November 27, 2016</td>\n",
              "      <td>37</td>\n",
              "    </tr>\n",
              "  </tbody>\n",
              "</table>\n",
              "</div>"
            ],
            "text/plain": [
              "   Unnamed: 0                  drugName                     condition  \\\n",
              "0      206461                 Valsartan  Left Ventricular Dysfunction   \n",
              "1       95260                Guanfacine                          ADHD   \n",
              "2       92703                    Lybrel                 Birth Control   \n",
              "3      138000                Ortho Evra                 Birth Control   \n",
              "4       35696  Buprenorphine / naloxone             Opiate Dependence   \n",
              "\n",
              "                                              review  rating  \\\n",
              "0  \"It has no side effect, I take it in combinati...     9.0   \n",
              "1  \"My son is halfway through his fourth week of ...     8.0   \n",
              "2  \"I used to take another oral contraceptive, wh...     5.0   \n",
              "3  \"This is my first time using any form of birth...     8.0   \n",
              "4  \"Suboxone has completely turned my life around...     9.0   \n",
              "\n",
              "                date  usefulCount  \n",
              "0       May 20, 2012           27  \n",
              "1     April 27, 2010          192  \n",
              "2  December 14, 2009           17  \n",
              "3   November 3, 2015           10  \n",
              "4  November 27, 2016           37  "
            ]
          },
          "metadata": {
            "tags": []
          },
          "execution_count": 7
        }
      ]
    },
    {
      "metadata": {
        "id": "9-JFtux3aKQS",
        "colab_type": "code",
        "outputId": "93757f7f-996c-4a85-992a-0a36c6c2e622",
        "colab": {
          "base_uri": "https://localhost:8080/",
          "height": 34
        }
      },
      "cell_type": "code",
      "source": [
        "df.shape"
      ],
      "execution_count": 0,
      "outputs": [
        {
          "output_type": "execute_result",
          "data": {
            "text/plain": [
              "(161297, 7)"
            ]
          },
          "metadata": {
            "tags": []
          },
          "execution_count": 8
        }
      ]
    },
    {
      "metadata": {
        "id": "TT7to-3sJMDE",
        "colab_type": "text"
      },
      "cell_type": "markdown",
      "source": [
        "## Statistics Code Challenge\n"
      ]
    },
    {
      "metadata": {
        "id": "fvLt-CFLJWnZ",
        "colab_type": "code",
        "colab": {}
      },
      "cell_type": "code",
      "source": [
        "def sqrt(x):\n",
        "  sq = x**(.5)\n",
        "  return sq\n",
        "\n",
        "def variance(results):\n",
        "  #calculate the variance : the average of the squared differences from the mean.\n",
        "  # calculate mean\n",
        "  m = sum(results) / len(results)\n",
        "  # calculate variance using a list comprehension\n",
        "  var_res = sum((xi - m) ** 2 for xi in results) / len(results)\n",
        "  return var_res\n",
        "\n",
        "#Here we calculate the variance given the formula above \n",
        "#by subtracting each score from the average and then taking square and rolling the sum. \n",
        "#def grades_variance(scores):\n",
        "#    average = grades_average(scores)\n",
        "#    variance = 0\n",
        "#    for score in scores:\n",
        "#        variance = variance + (average - score) ** 2\n",
        "#    return variance/len(scores)\n",
        "\n",
        "def stdev(res):\n",
        "  #And here the standard deviation comes by taking square root of the variance\n",
        "  vari = variance(res)\n",
        "  sdv=sqrt(vari)\n",
        "  return sdv\n"
      ],
      "execution_count": 0,
      "outputs": []
    },
    {
      "metadata": {
        "id": "HZM0Y180eXYM",
        "colab_type": "text"
      },
      "cell_type": "markdown",
      "source": [
        "###Z Score Formulas\n",
        "The z score tells you how many standard deviations from the mean your score is\n",
        "\n",
        "The Z Score Formula: One Sample\n",
        "\n",
        "The basic z score formula for a sample is:\n",
        "z = (x – μ) / σ\n",
        "For example, let’s say you have a test score of 190. The test has a mean (μ) of 150 and a standard deviation (σ) of 25. Assuming a normal distribution, your z score would be:\n",
        "z = (x – μ) / σ\n",
        "= 190 – 150 / 25 = 1.6.\n",
        "The z score tells you how many standard deviations from the mean your score is. In this example, your score is 1.6 standard deviations above the mean.\n",
        "\n",
        "alternate-z-scoreYou may also see the z score formula shown to the left. This is exactly the same formula as z = x – μ / σ, except that x̄ (the sample mean) is used instead of μ (the population mean) and s (the sample standard deviation) is used instead of σ (the population standard deviation). However, the steps for solving it are exactly the same.\n",
        "\n",
        "\n",
        "Z Score Formula: Standard Error of the Mean\n",
        "When you have multiple samples and want to describe the standard deviation of those sample means (the standard error), you would use this z score formula:\n",
        "z = (x – μ) / (σ / √n)\n",
        "This z-score will tell you how many standard errors there are between the sample mean and the population mean.\n",
        "\n",
        "Sample problem: In general, the mean height of women is 65″ with a standard deviation of 3.5″. What is the probability of finding a random sample of 50 women with a mean height of 70″, assuming the heights are normally distributed?"
      ]
    },
    {
      "metadata": {
        "id": "AqOU-WRteZ40",
        "colab_type": "code",
        "colab": {}
      },
      "cell_type": "code",
      "source": [
        "def zscore(n, nums):\n",
        "  return (n - mean(nums)) / stdev(nums)\n",
        "  \n",
        "def find_outliers(nums, threshold=1):\n",
        "  outliers = []\n",
        "  for i in range(len(nums)):\n",
        "    if abs(zscore(nums[i],nums)) > threshold:\n",
        "      outliers.append(nums[i])\n",
        "  return outliers"
      ],
      "execution_count": 0,
      "outputs": []
    },
    {
      "metadata": {
        "id": "cvtTb48U5K0h",
        "colab_type": "text"
      },
      "cell_type": "markdown",
      "source": [
        "### Bayesean Formula and exercise"
      ]
    },
    {
      "metadata": {
        "id": "oleetRcFLEF7",
        "colab_type": "code",
        "outputId": "e6e92cc4-8d42-44c6-b14b-5c5633b716f9",
        "colab": {
          "base_uri": "https://localhost:8080/",
          "height": 51
        }
      },
      "cell_type": "code",
      "source": [
        "grades = [100, 100, 90, 40, 80, 100, 85, 70, 90, 65, 90, 85, 50.5]\n",
        "#First print the grades\n",
        "def print_grades(grades):\n",
        "    for grade in grades:\n",
        "        print(grade)\n",
        "    return\n",
        "\n",
        "#calculate the sum\n",
        "def grades_sum(grades):\n",
        "    total = 0\n",
        "    for grade in grades: \n",
        "        total += grade\n",
        "    return total\n",
        " \n",
        "#Take the average by adding up each grade    \n",
        "def grades_average(grades):\n",
        "    sum_of_grades = grades_sum(grades)\n",
        "    average = sum_of_grades / float(len(grades))\n",
        "    return average\n",
        " \n",
        "#Here we calculate the variance given the formula above \n",
        "#by subtracting each score from the average and then taking square and rolling the sum. \n",
        "def grades_variance(scores):\n",
        "    average = grades_average(scores)\n",
        "    variance = 0\n",
        "    for score in scores:\n",
        "        variance = variance + (average - score) ** 2\n",
        "    return variance/len(scores)\n",
        " \n",
        "#And here the standard deviation comes by taking square root of the variance\n",
        "def grades_std_deviation(variance):\n",
        "    return variance ** 0.5\n",
        "\n",
        "  \n",
        "variance = grades_variance(grades)\n",
        "print (grades_variance(grades))\n",
        "print (grades_std_deviation(variance))"
      ],
      "execution_count": 0,
      "outputs": [
        {
          "output_type": "stream",
          "text": [
            "334.0710059171598\n",
            "18.277609414722697\n"
          ],
          "name": "stdout"
        }
      ]
    },
    {
      "metadata": {
        "id": "pL2T31V99PzP",
        "colab_type": "text"
      },
      "cell_type": "markdown",
      "source": [
        "Jo has a test for a nasty disease. We denote Jo's state of health by the variable a and the test result by b. a = 1 Jo has the disease\n",
        "a = 0 Jo does not have the disease. (2.12)\n",
        "The result of the test is either 'positive' (b = 1) or 'negative' (b = 0);\n",
        "the test is 95% reliable: in 95% of cases of people who really have the\n",
        "disease, a positive result is returned, and in 95% of cases of people who\n",
        "do not have the disease, a negative result is obtained. The final piece of\n",
        "background information is that 1% of people of Jo's age and background\n",
        "have the disease.\n",
        "OK – Jo has the test, and the result is positive. What is the probability\n",
        "that Jo has the disease?"
      ]
    },
    {
      "metadata": {
        "id": "m1yQ0Ql5BJ-v",
        "colab_type": "text"
      },
      "cell_type": "markdown",
      "source": [
        "####Bayes Thoerem \n",
        "p(a=1|b=1) = (p(b=1|a=1)p(a=1))/(p(b)\n",
        "------\n",
        "                                 \n",
        "p(a=1) = .01\n",
        "\n",
        "p(b=1|a=1) = .95\n",
        "\n",
        "p(b=1) = p(b=1|a=0) + p(b=1|a=1)                                 \n",
        "-------\n",
        "                                 \n",
        "p(a=1|b=1) = (p(b=1|a=1)p(a=1))/(p(b=1|a=0) + p(b=1|a=1))\n",
        "\n",
        "(.95*.01)/((.95*.01)+(.05*.99))\n",
        "\n",
        "(.0095)/((.0095)+(.0495))\n",
        "\n",
        "(.0095)/(.059)\n",
        "\n",
        "p(a=1|b=1) = 0.16"
      ]
    },
    {
      "metadata": {
        "id": "JL8CfidGFRKd",
        "colab_type": "text"
      },
      "cell_type": "markdown",
      "source": [
        "###Write a function for merging k sorted list of lists in ascending order.\n",
        "\n",
        "For example:\n",
        "input list: \n",
        "L = [[1,3,5,7],[2,4,5,8],[0,9,10,11]]\n",
        "sorted list: \n",
        "L =[0, 1, 2, 3, 4, 5, 5, 7, 8, 9, 10, 11]\n",
        "\n",
        "Also, the function should return list of tuples when the sum of any two elements in the sorted list is 10.\n",
        "For example, using the above sorted list, function should return:\n",
        "[(5, 5), (7, 3), (8, 2), (9, 1), (10, 0)] \n",
        "\n",
        "Note that passing the test requires getting the correct function return as indicated above. To pass the test the tuples should be in ascending order of their first number.\n"
      ]
    },
    {
      "metadata": {
        "id": "BHb9E0oMFU9N",
        "colab_type": "code",
        "outputId": "ffe7ad9b-f5b1-4cbd-9ce8-a4a67dcb30f4",
        "colab": {
          "base_uri": "https://localhost:8080/",
          "height": 34
        }
      },
      "cell_type": "code",
      "source": [
        "# Write a function for merging and sorting the lists\n",
        "L = [[1,3,5,7],[2,4,5,8],[0,9,10,11]]\n",
        "n = 10\n",
        "def identify_Tuples(Ls):\n",
        "  new_list=[]\n",
        "  for set_s in Ls:\n",
        "    for item in set_s:\n",
        "      new_list.append(item)\n",
        "  new_list=sorted(new_list)\n",
        "  middle_i = int(len(new_list) // 2)\n",
        "  results=[]\n",
        "  for ind1 in range(middle_i,len(new_list)):\n",
        "      tuple1=new_list[ind1]\n",
        "      for ind2 in range(0,middle_i):\n",
        "        tuple2=new_list[ind2]\n",
        "        if n==tuple1+tuple2:\n",
        "          tup=(tuple1, tuple2)\n",
        "          results.append(tup)\n",
        "  return results\n",
        "print(identify_Tuples(L))"
      ],
      "execution_count": 0,
      "outputs": [
        {
          "output_type": "stream",
          "text": [
            "[(5, 5), (7, 3), (8, 2), (9, 1), (10, 0)]\n"
          ],
          "name": "stdout"
        }
      ]
    }
  ]
}