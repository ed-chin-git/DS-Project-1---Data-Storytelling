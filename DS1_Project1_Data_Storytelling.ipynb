{
  "nbformat": 4,
  "nbformat_minor": 0,
  "metadata": {
    "colab": {
      "name": "DS1 Project1 Data Storytelling.ipynb",
      "version": "0.3.2",
      "provenance": [],
      "collapsed_sections": [],
      "include_colab_link": true
    },
    "kernelspec": {
      "name": "python3",
      "display_name": "Python 3"
    }
  },
  "cells": [
    {
      "cell_type": "markdown",
      "metadata": {
        "id": "view-in-github",
        "colab_type": "text"
      },
      "source": [
        "<a href=\"https://colab.research.google.com/github/ed-chin-git/DS-Project-1---Data-Storytelling/blob/master/DS1_Project1_Data_Storytelling.ipynb\" target=\"_parent\"><img src=\"https://colab.research.google.com/assets/colab-badge.svg\" alt=\"Open In Colab\"/></a>"
      ]
    },
    {
      "metadata": {
        "id": "i-n_5en3ER1o",
        "colab_type": "text"
      },
      "cell_type": "markdown",
      "source": [
        "# Data Science Unit 1 Project 1\n",
        "\n"
      ]
    },
    {
      "metadata": {
        "id": "OS0nW1vz1itX",
        "colab_type": "text"
      },
      "cell_type": "markdown",
      "source": [
        "# Part 1\n",
        "\n",
        "**Describe an idea** you could work on for your upcoming data storytelling project. What's your hypothesis?\n",
        "\n",
        "#### Write a [lede](https://www.thoughtco.com/how-to-write-a-great-lede-2074346) (first paragraph)\n",
        "- Put the bottom line up front.\n",
        "- Use 60 words or fewer. (The [Hemingway App](http://www.hemingwayapp.com/) gives you word count.)\n",
        "\n",
        "[This is hard](https://quoteinvestigator.com/2012/04/28/shorter-letter/), but you can do it!\n",
        "\n",
        "#### Stretch goals\n",
        "- Write more about your idea. Tell us what the story's about. Show us why it's interesting. Continue to follow the inverted pyramid structure. \n",
        "- Improve your readability. Post your \"before & after\" scores from the Hemingway App."
      ]
    },
    {
      "metadata": {
        "id": "bnLqMTWLd5i9",
        "colab_type": "text"
      },
      "cell_type": "markdown",
      "source": [
        "##Question:  \n",
        "\n",
        "---\n",
        "\n",
        "\n",
        "##Has the conflict in the Middle East reduced the availability of clean water and arable land?\n",
        "\n",
        "\n",
        "---\n",
        "\n",
        "###The drums of war have beaten in the Middle East for more than fifteen years now.  Most of us are aware of the carnage inflicted on the population. During this long period the amount of clean water and arable land has also diminished.  This has made life even more difficult for the surviving population.Let's take a closer look at the situation.."
      ]
    },
    {
      "metadata": {
        "id": "Nqf9oJJDDu-d",
        "colab_type": "text"
      },
      "cell_type": "markdown",
      "source": [
        "# Part 2\n",
        "\n",
        "#### Find sources\n",
        "- Link to at least 2 relevant sources for your topic. Sources could include any data or writing about your topic.\n",
        "- Use [Markdown](https://commonmark.org/help/) to format your links.\n",
        "- Summarize each source in 1-2 sentences.\n",
        "\n",
        "#### Stretch goals\n",
        "- Find more sources.\n",
        "- Use Markdown to add images from your sources.\n",
        "- Critically evaluate your sources in writing."
      ]
    },
    {
      "metadata": {
        "id": "xAJlf735-2T5",
        "colab_type": "text"
      },
      "cell_type": "markdown",
      "source": [
        "\n",
        "\n",
        "---\n",
        "\n",
        "\n",
        "## Relevant sources:\n",
        "\n",
        "###Data is available thru the following sources:\n",
        "#####(Arable land is land cultivated for crops that are replanted after each harvest like wheat, maize, and rice.)\n",
        "\n",
        "\n",
        "[Trading Economics](https://tradingeconomics.com/middle-east-and-north-africa/agricultural-land-percent-of-land-area-wb-data.html), while focusing mostly on finance,  has data on arable land by country.\n",
        "\n",
        "[NationMaster](https://www.nationmaster.com/country-info/stats/Geography/Land-use/Arable-land) a massive central data source and a handy way to graphically compare nations, has data on arable land and clean water.\n",
        "\n",
        "[Unicef](https://data.unicef.org/topic/water-and-sanitation/drinking-water/) has data on clean drinking water across the globe.\n",
        "\n",
        "\n",
        "---\n",
        "\n"
      ]
    },
    {
      "metadata": {
        "id": "LuacMjSf2ses",
        "colab_type": "text"
      },
      "cell_type": "markdown",
      "source": [
        "# Part 3\n",
        "\n",
        "#### Plan your next steps\n",
        "- Describe at least 2 actions you'd take to get started with your project.\n",
        "- Use Markdown headings and lists to organize your plan.\n",
        "\n",
        "#### Stretch goals\n",
        "- Add detail to your plan.\n",
        "- Publish your project proposal on your GitHub Pages site. "
      ]
    },
    {
      "metadata": {
        "id": "SFmS6ZZld4ot",
        "colab_type": "text"
      },
      "cell_type": "markdown",
      "source": [
        "## Next Steps\n",
        "\n",
        "\n",
        "###1.  Search online for more data sources\n",
        "###2.  Develop web scrapers for sources that do not publish data.\n",
        "###3.  Compose and analize resulting data to see if it confirms hypothesis\n",
        "###4. If hypothesis not confirmed, then rewrite lede in the form: ‘What       seems to be X is in reality non-X’.\n",
        "###5.   Create data visualizations\n",
        "###6.  Finish write-up (include visualizations)\n",
        "\n",
        "\n",
        "\n",
        "\n",
        "\n",
        "\n",
        "\n"
      ]
    }
  ]
}